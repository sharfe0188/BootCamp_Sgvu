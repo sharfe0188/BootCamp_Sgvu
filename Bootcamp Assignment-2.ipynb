{
 "cells": [
  {
   "cell_type": "markdown",
   "id": "3f927cc1-e40f-4b12-b0d1-b6e4a3916b02",
   "metadata": {},
   "source": [
    "# Day2 Bootcamp Assignment2"
   ]
  },
  {
   "cell_type": "markdown",
   "id": "99ab66a1-1027-4d13-aec1-08b737afc89d",
   "metadata": {},
   "source": [
    "#### Q1 - Remove all occurrences of a specific value from a list:\n",
    "\n"
   ]
  },
  {
   "cell_type": "code",
   "execution_count": 3,
   "id": "f499f0ec-dfb6-40e5-918f-0e998ac7e97d",
   "metadata": {},
   "outputs": [
    {
     "name": "stdout",
     "output_type": "stream",
     "text": [
      "[1, 2, 4, 5]\n"
     ]
    }
   ],
   "source": [
    "numbers = [1, 2, 3, 4, 3, 5]\n",
    "value_to_remove = 3\n",
    "numbers = [num for num in numbers if num != value_to_remove]\n",
    "print(numbers)\n"
   ]
  },
  {
   "cell_type": "markdown",
   "id": "9e41a0f9-b888-449e-aa61-f107ea3617b3",
   "metadata": {},
   "source": [
    "### Q2 - Concatenate a list of strings into a single string separated by a space:\n"
   ]
  },
  {
   "cell_type": "code",
   "execution_count": 4,
   "id": "aa8685a0-3527-4c26-91c0-36350b12dfcd",
   "metadata": {},
   "outputs": [
    {
     "name": "stdout",
     "output_type": "stream",
     "text": [
      "Hello world from Python\n"
     ]
    }
   ],
   "source": [
    "words = [\"Hello\", \"world\", \"from\", \"Python\"]\n",
    "sentence = \" \".join(words)\n",
    "print(sentence)  \n"
   ]
  },
  {
   "cell_type": "markdown",
   "id": "ec24c967-56a1-4d81-b58d-b61ee5e1b046",
   "metadata": {},
   "source": [
    "### Q3 -Reverse a list of integers:\n",
    "\n",
    "\n"
   ]
  },
  {
   "cell_type": "code",
   "execution_count": 5,
   "id": "ca0a2bc1-1e0d-4e87-a82d-4b3f3148603c",
   "metadata": {},
   "outputs": [
    {
     "data": {
      "text/plain": [
       "[5, 4, 3, 2, 1]"
      ]
     },
     "execution_count": 5,
     "metadata": {},
     "output_type": "execute_result"
    }
   ],
   "source": [
    "numbers = [1, 2, 3, 4, 5]\n",
    "numbers[::-1]"
   ]
  },
  {
   "cell_type": "markdown",
   "id": "b3804945-a9d0-4541-bcdf-cc42e54e307c",
   "metadata": {},
   "source": [
    "### Q4- ort a list of numbers in descending order:"
   ]
  },
  {
   "cell_type": "code",
   "execution_count": 6,
   "id": "57117c8e-542b-454b-86d6-c85e73d785d7",
   "metadata": {},
   "outputs": [
    {
     "name": "stdout",
     "output_type": "stream",
     "text": [
      "[5, 4, 3, 2, 1]\n"
     ]
    }
   ],
   "source": [
    "numbers = [1, 4, 2, 5, 3]\n",
    "numbers.sort(reverse=True)\n",
    "print(numbers)\n"
   ]
  },
  {
   "cell_type": "markdown",
   "id": "b16dddb1-645a-4c61-a0bb-a92e332322fc",
   "metadata": {},
   "source": [
    "### Q5 - Combine two lists and remove duplicates:"
   ]
  },
  {
   "cell_type": "code",
   "execution_count": 7,
   "id": "ee41393d-b114-4ec6-8c15-031649e21c04",
   "metadata": {},
   "outputs": [
    {
     "name": "stdout",
     "output_type": "stream",
     "text": [
      "[1, 2, 3, 4, 5]\n"
     ]
    }
   ],
   "source": [
    "list1 = [1, 2, 3]\n",
    "list2 = [3, 4, 5]\n",
    "combined_list = list(set(list1 + list2))\n",
    "print(combined_list)"
   ]
  },
  {
   "cell_type": "markdown",
   "id": "5330e1af-3d77-444a-9f01-0eeda53ba659",
   "metadata": {},
   "source": [
    "### Q6- Convert a tuple to a list and remove the first and last elements:"
   ]
  },
  {
   "cell_type": "code",
   "execution_count": 8,
   "id": "78a0677e-965e-4f0f-97dd-1ffbe5d8c4e7",
   "metadata": {},
   "outputs": [
    {
     "name": "stdout",
     "output_type": "stream",
     "text": [
      "[2, 3, 4]\n"
     ]
    }
   ],
   "source": [
    "numbers = (1, 2, 3, 4, 5)\n",
    "numbers_list = list(numbers)[1:-1]\n",
    "print(numbers_list)\n"
   ]
  },
  {
   "cell_type": "markdown",
   "id": "59cf6d35-5ff6-4df4-9137-d4a15aa0e1fb",
   "metadata": {},
   "source": [
    "### Q7- Extract the first elements of each tuple into a separate list:"
   ]
  },
  {
   "cell_type": "code",
   "execution_count": 9,
   "id": "17eb0c3c-b4c5-46e0-98b9-01cd8a19281f",
   "metadata": {},
   "outputs": [
    {
     "name": "stdout",
     "output_type": "stream",
     "text": [
      "[1, 2, 3]\n"
     ]
    }
   ],
   "source": [
    "tuples = [(1, 'a'), (2, 'b'), (3, 'c')]\n",
    "first_elements = [x for x, y in tuples]\n",
    "print(first_elements)\n"
   ]
  },
  {
   "cell_type": "markdown",
   "id": "41983dca-1dfb-4fb6-a414-9179725b830d",
   "metadata": {},
   "source": [
    "### Q8- Combine two tuples into one:"
   ]
  },
  {
   "cell_type": "code",
   "execution_count": 10,
   "id": "a1f304a4-1b72-4963-bdc0-f87e6ce7a0ad",
   "metadata": {},
   "outputs": [
    {
     "name": "stdout",
     "output_type": "stream",
     "text": [
      "(1, 2, 3, 4, 5, 6)\n"
     ]
    }
   ],
   "source": [
    "tuple1 = (1, 2, 3)\n",
    "tuple2 = (4, 5, 6)\n",
    "combined_tuple = tuple1 + tuple2\n",
    "print(combined_tuple)"
   ]
  },
  {
   "cell_type": "markdown",
   "id": "37dbb3ff-80b9-4813-b229-bec8620ae0c8",
   "metadata": {},
   "source": [
    "### Q9- Find maximum and minimum values in a tuple:"
   ]
  },
  {
   "cell_type": "code",
   "execution_count": 11,
   "id": "73af50d1-4955-4db9-a6bc-d33be54a20d7",
   "metadata": {},
   "outputs": [
    {
     "name": "stdout",
     "output_type": "stream",
     "text": [
      "Max: 5, Min: 1\n"
     ]
    }
   ],
   "source": [
    "numbers = (1, 2, 3, 4, 5)\n",
    "max_value = max(numbers)\n",
    "min_value = min(numbers)\n",
    "print(f\"Max: {max_value}, Min: {min_value}\")  "
   ]
  },
  {
   "cell_type": "markdown",
   "id": "a9659de3-aa3f-42e1-8c95-7fd299e0e05d",
   "metadata": {},
   "source": [
    "### Q10- Convert a tuple of strings into a single string with commas:"
   ]
  },
  {
   "cell_type": "code",
   "execution_count": 12,
   "id": "7d014fca-3878-4914-982a-da7efe6e8f37",
   "metadata": {},
   "outputs": [
    {
     "name": "stdout",
     "output_type": "stream",
     "text": [
      "apple, banana, cherry\n"
     ]
    }
   ],
   "source": [
    "words = ('apple', 'banana', 'cherry')\n",
    "result = ', '.join(words)\n",
    "print(result)\n"
   ]
  },
  {
   "cell_type": "markdown",
   "id": "0c93e1a9-9162-4ea8-8996-45083d2a321c",
   "metadata": {},
   "source": [
    "### Q11- Find the union of two sets:"
   ]
  },
  {
   "cell_type": "code",
   "execution_count": 13,
   "id": "0315ddb0-5536-41e8-a8be-00c416b1481c",
   "metadata": {},
   "outputs": [
    {
     "name": "stdout",
     "output_type": "stream",
     "text": [
      "{1, 2, 3, 4, 5}\n"
     ]
    }
   ],
   "source": [
    "set1 = {1, 2, 3}\n",
    "set2 = {3, 4, 5}\n",
    "union_set = set1.union(set2)\n",
    "print(union_set)\n"
   ]
  },
  {
   "cell_type": "markdown",
   "id": "2170bf8e-e072-480d-9674-4e52b28bbd19",
   "metadata": {},
   "source": [
    "### Q12- Find the intersection of two sets:"
   ]
  },
  {
   "cell_type": "code",
   "execution_count": 14,
   "id": "34adc7fb-595c-4af4-bcc8-a21a24d96ac3",
   "metadata": {},
   "outputs": [
    {
     "name": "stdout",
     "output_type": "stream",
     "text": [
      "{3}\n"
     ]
    }
   ],
   "source": [
    "set1 = {1, 2, 3}\n",
    "set2 = {3, 4, 5}\n",
    "intersection_set = set1.intersection(set2)\n",
    "print(intersection_set)  # Output: {3}\n"
   ]
  },
  {
   "cell_type": "markdown",
   "id": "5882d064-2728-4af3-9b4b-ee1eb4352419",
   "metadata": {},
   "source": [
    "### Q13-Remove all elements from one set present in another:"
   ]
  },
  {
   "cell_type": "code",
   "execution_count": 15,
   "id": "2a26e899-032f-4065-b13e-3b3cb79e1ec6",
   "metadata": {},
   "outputs": [
    {
     "name": "stdout",
     "output_type": "stream",
     "text": [
      "{1, 2}\n"
     ]
    }
   ],
   "source": [
    "set1 = {1, 2, 3}\n",
    "set2 = {3, 4, 5}\n",
    "set1.difference_update(set2)\n",
    "print(set1)  "
   ]
  },
  {
   "cell_type": "markdown",
   "id": "10b1e3cd-72cf-4315-b3e7-a5e3b9eca5b7",
   "metadata": {},
   "source": [
    "### Q14- Find the difference between two sets:"
   ]
  },
  {
   "cell_type": "code",
   "execution_count": 16,
   "id": "2a4d7efb-9df0-489a-bdb0-78e269625423",
   "metadata": {},
   "outputs": [
    {
     "name": "stdout",
     "output_type": "stream",
     "text": [
      "{1, 2}\n"
     ]
    }
   ],
   "source": [
    "set1 = {1, 2, 3}\n",
    "set2 = {3, 4, 5}\n",
    "difference_set = set1.difference(set2)\n",
    "print(difference_set)\n"
   ]
  },
  {
   "cell_type": "markdown",
   "id": "002d9011-9afc-4a48-98a3-2b25f0da5a4a",
   "metadata": {},
   "source": [
    "### Q15- Convert a list of integers to a set and back to a list to remove duplicates:"
   ]
  },
  {
   "cell_type": "code",
   "execution_count": 17,
   "id": "d99b1d8c-3ac0-4168-8a23-7f413b15e8cb",
   "metadata": {},
   "outputs": [
    {
     "name": "stdout",
     "output_type": "stream",
     "text": [
      "[1, 2, 3, 4, 5]\n"
     ]
    }
   ],
   "source": [
    "numbers = [1, 2, 3, 3, 4, 5]\n",
    "unique_numbers = list(set(numbers))\n",
    "print(unique_numbers) \n"
   ]
  },
  {
   "cell_type": "markdown",
   "id": "4cbb09b9-601d-468b-90fe-cf5a231f353d",
   "metadata": {},
   "source": [
    "### Q16- Merge two dictionaries into one:"
   ]
  },
  {
   "cell_type": "code",
   "execution_count": 34,
   "id": "2f510bbc-c20c-405c-8a00-c43321697bc7",
   "metadata": {},
   "outputs": [
    {
     "name": "stdout",
     "output_type": "stream",
     "text": [
      "['(())()', '()()()']\n"
     ]
    }
   ],
   "source": [
    "dict1 = {'a': 1, 'b': 2}\n",
    "dict2 = {'b': 3, 'c': 4}\n",
    "merged_dict = {**dict1, **dict2}\n",
    "print(merged_dict)  # Output: {'a': 1, 'b': 3, 'c': 4}\n"
   ]
  },
  {
   "cell_type": "code",
   "execution_count": null,
   "id": "98981db6-9c4a-46f3-b3a4-e0c9085ff39a",
   "metadata": {},
   "outputs": [],
   "source": []
  }
 ],
 "metadata": {
  "kernelspec": {
   "display_name": "Python 3 (ipykernel)",
   "language": "python",
   "name": "python3"
  },
  "language_info": {
   "codemirror_mode": {
    "name": "ipython",
    "version": 3
   },
   "file_extension": ".py",
   "mimetype": "text/x-python",
   "name": "python",
   "nbconvert_exporter": "python",
   "pygments_lexer": "ipython3",
   "version": "3.12.5"
  }
 },
 "nbformat": 4,
 "nbformat_minor": 5
}
