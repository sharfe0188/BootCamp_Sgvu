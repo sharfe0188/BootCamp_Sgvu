{
 "cells": [
  {
   "cell_type": "markdown",
   "id": "06b90483-299a-4fc4-bb2e-3f49d4ec3dc1",
   "metadata": {},
   "source": [
    "### Name - Md Sharfe ALam\n",
    "### Sid - 90749\n",
    "### Assignment  - 02 "
   ]
  },
  {
   "cell_type": "markdown",
   "id": "c069daf3",
   "metadata": {},
   "source": [
    "1.\tGiven a list of integers, remove all occurrences of a specific value using a list method. "
   ]
  },
  {
   "cell_type": "code",
   "execution_count": 4,
   "id": "12d11420",
   "metadata": {},
   "outputs": [
    {
     "data": {
      "text/plain": [
       "[1, 3, 4, 5]"
      ]
     },
     "execution_count": 4,
     "metadata": {},
     "output_type": "execute_result"
    }
   ],
   "source": [
    "l = [1, 2, 3, 4, 2, 2, 5, 2]\n",
    "value_to_remove = 2\n",
    "l = [x for x in l if x != value_to_remove]\n",
    "l"
   ]
  },
  {
   "cell_type": "markdown",
   "id": "d369d5f3",
   "metadata": {},
   "source": [
    "2.\tConcatenate a list of strings into a single string, with each element separated by a space, using a list method."
   ]
  },
  {
   "cell_type": "code",
   "execution_count": 5,
   "id": "6888208a",
   "metadata": {},
   "outputs": [
    {
     "data": {
      "text/plain": [
       "'Hello welcome to the bootcamp'"
      ]
     },
     "execution_count": 5,
     "metadata": {},
     "output_type": "execute_result"
    }
   ],
   "source": [
    "l1 = [\"Hello\", \"welcome\", \"to\", \"the\", \"bootcamp\"]\n",
    "result = \" \".join(l1)\n",
    "result "
   ]
  },
  {
   "cell_type": "markdown",
   "id": "bedaf9a9",
   "metadata": {},
   "source": [
    "3.\tReverse a list of integers using a built-in list method."
   ]
  },
  {
   "cell_type": "code",
   "execution_count": 6,
   "id": "ff9cc06d",
   "metadata": {},
   "outputs": [
    {
     "data": {
      "text/plain": [
       "[4, 0, 7, 71, 6, 1, 4]"
      ]
     },
     "execution_count": 6,
     "metadata": {},
     "output_type": "execute_result"
    }
   ],
   "source": [
    "l3 = [4,1,6,71,7,0,4]\n",
    "l3.reverse()\n",
    "l3"
   ]
  },
  {
   "cell_type": "markdown",
   "id": "98c5e5f6",
   "metadata": {},
   "source": [
    "4.\tSort a list of numbers in descending order using a built-in list method."
   ]
  },
  {
   "cell_type": "code",
   "execution_count": 7,
   "id": "73984fdf",
   "metadata": {
    "scrolled": true
   },
   "outputs": [
    {
     "data": {
      "text/plain": [
       "[7, 7, 6, 4, 4, 1, 1, 0]"
      ]
     },
     "execution_count": 7,
     "metadata": {},
     "output_type": "execute_result"
    }
   ],
   "source": [
    "l4 = [4,1,6,7,1,7,0,4]\n",
    "l4.sort(reverse=True)\n",
    "l4"
   ]
  },
  {
   "cell_type": "markdown",
   "id": "c5c558ac",
   "metadata": {},
   "source": [
    "5.\tGiven two lists, combine them into a single list and remove any duplicate elements using a list method."
   ]
  },
  {
   "cell_type": "code",
   "execution_count": 8,
   "id": "230d2064",
   "metadata": {},
   "outputs": [
    {
     "data": {
      "text/plain": [
       "[1, 2, 3, 4, 5, 6, 7]"
      ]
     },
     "execution_count": 8,
     "metadata": {},
     "output_type": "execute_result"
    }
   ],
   "source": [
    "list1 = [1, 2, 3, 4, 5]\n",
    "list2 = [3, 4, 5, 6, 7]\n",
    "combined_list = list(set(list1 + list2))\n",
    "combined_list"
   ]
  },
  {
   "cell_type": "markdown",
   "id": "9f9c554e",
   "metadata": {},
   "source": [
    "6.\tConvert a tuple of integers into a list and remove the first and last elements using a tuple method."
   ]
  },
  {
   "cell_type": "code",
   "execution_count": 11,
   "id": "d5bcde71",
   "metadata": {},
   "outputs": [
    {
     "data": {
      "text/plain": [
       "[8, 5, 1, 9]"
      ]
     },
     "execution_count": 11,
     "metadata": {},
     "output_type": "execute_result"
    }
   ],
   "source": [
    "t = (3,8,5,1,9,4)\n",
    "t1=list(t)[1:-1]\n",
    "# tup = t1[1:-1]\n",
    "t1"
   ]
  },
  {
   "cell_type": "markdown",
   "id": "59dd3a59",
   "metadata": {},
   "source": [
    "7.\tGiven a list of tuples, extract all the first elements of each tuple into a separate list using tuple unpacking."
   ]
  },
  {
   "cell_type": "code",
   "execution_count": 13,
   "id": "e5f14606",
   "metadata": {},
   "outputs": [
    {
     "data": {
      "text/plain": [
       "[1, 3, 5]"
      ]
     },
     "execution_count": 13,
     "metadata": {},
     "output_type": "execute_result"
    }
   ],
   "source": [
    "ls = [(1,2),(3,4),(5,6)]\n",
    "sep = [x for x, _ in ls]\n",
    "sep"
   ]
  },
  {
   "cell_type": "markdown",
   "id": "3fb329b5",
   "metadata": {},
   "source": [
    "8.\tCombine two tuples into a single tuple."
   ]
  },
  {
   "cell_type": "code",
   "execution_count": 14,
   "id": "e9a8d40d",
   "metadata": {},
   "outputs": [
    {
     "data": {
      "text/plain": [
       "(1, 2, 3, 4, 5, 6)"
      ]
     },
     "execution_count": 14,
     "metadata": {},
     "output_type": "execute_result"
    }
   ],
   "source": [
    "tuple1 = (1, 2, 3)\n",
    "tuple2 = (4, 5, 6)\n",
    "comb_tuple = tuple1 + tuple2\n",
    "comb_tuple"
   ]
  },
  {
   "cell_type": "markdown",
   "id": "7539a001",
   "metadata": {},
   "source": [
    "9.\tFind the maximum and minimum values in a tuple of numbers using tuple methods."
   ]
  },
  {
   "cell_type": "code",
   "execution_count": 15,
   "id": "d3cf950e",
   "metadata": {},
   "outputs": [
    {
     "name": "stdout",
     "output_type": "stream",
     "text": [
      "40\n",
      "5\n"
     ]
    }
   ],
   "source": [
    "num = (10, 20, 5, 40, 30)\n",
    "maxi = max(num)\n",
    "mini = min(num)\n",
    "print(maxi)  \n",
    "print(mini)  "
   ]
  },
  {
   "cell_type": "markdown",
   "id": "89db55af",
   "metadata": {},
   "source": [
    "10.\tConvert a tuple of strings into a single string, with each element separated by a comma, using tuple methods."
   ]
  },
  {
   "cell_type": "code",
   "execution_count": 16,
   "id": "67d2754d",
   "metadata": {},
   "outputs": [
    {
     "data": {
      "text/plain": [
       "'How, are, you'"
      ]
     },
     "execution_count": 16,
     "metadata": {},
     "output_type": "execute_result"
    }
   ],
   "source": [
    "s_tup = (\"How\", \"are\", \"you\")\n",
    "comb_s = ', '.join(s_tup)\n",
    "comb_s"
   ]
  },
  {
   "cell_type": "markdown",
   "id": "cd3bae84",
   "metadata": {},
   "source": [
    "11.\tGiven two sets, return the union of the two sets using a set operation."
   ]
  },
  {
   "cell_type": "code",
   "execution_count": 43,
   "id": "c49e158b",
   "metadata": {},
   "outputs": [
    {
     "data": {
      "text/plain": [
       "{1, 2, 3, 4, 5}"
      ]
     },
     "execution_count": 43,
     "metadata": {},
     "output_type": "execute_result"
    }
   ],
   "source": [
    "set1 = {1, 2, 3}\n",
    "set2 = {3, 4, 1, 5}\n",
    "opr = set1.union(set2)\n",
    "opr\n",
    "# set_opr = set1 | set2"
   ]
  },
  {
   "cell_type": "markdown",
   "id": "85bad463",
   "metadata": {},
   "source": [
    "12.\tFind the intersection of two sets using a set method."
   ]
  },
  {
   "cell_type": "code",
   "execution_count": 44,
   "id": "0f89cf4f",
   "metadata": {},
   "outputs": [
    {
     "data": {
      "text/plain": [
       "{1, 3}"
      ]
     },
     "execution_count": 44,
     "metadata": {},
     "output_type": "execute_result"
    }
   ],
   "source": [
    "inter_opr = set1.intersection(set2)\n",
    "inter_opr"
   ]
  },
  {
   "cell_type": "markdown",
   "id": "3f1edded",
   "metadata": {},
   "source": [
    "13.\tRemove all elements from one set that are also present in another set using a set method."
   ]
  },
  {
   "cell_type": "code",
   "execution_count": 45,
   "id": "dcf60ace",
   "metadata": {},
   "outputs": [
    {
     "data": {
      "text/plain": [
       "{1, 3}"
      ]
     },
     "execution_count": 45,
     "metadata": {},
     "output_type": "execute_result"
    }
   ],
   "source": [
    "set1.intersection_update(set2)\n",
    "set1"
   ]
  },
  {
   "cell_type": "markdown",
   "id": "601f7557",
   "metadata": {},
   "source": [
    "14.\tFind the difference between two sets using a set method."
   ]
  },
  {
   "cell_type": "code",
   "execution_count": 46,
   "id": "b8ea64ea",
   "metadata": {},
   "outputs": [
    {
     "data": {
      "text/plain": [
       "set()"
      ]
     },
     "execution_count": 46,
     "metadata": {},
     "output_type": "execute_result"
    }
   ],
   "source": [
    "diff_opr = set1.difference(set2)\n",
    "diff_opr"
   ]
  },
  {
   "cell_type": "markdown",
   "id": "e5904bc6",
   "metadata": {},
   "source": [
    "15.\tConvert a list of integers into a set and then back to a list to remove duplicates, using set operations."
   ]
  },
  {
   "cell_type": "code",
   "execution_count": 47,
   "id": "9a06e26b",
   "metadata": {},
   "outputs": [
    {
     "data": {
      "text/plain": [
       "[1, 2, 3, 4, 5]"
      ]
     },
     "execution_count": 47,
     "metadata": {},
     "output_type": "execute_result"
    }
   ],
   "source": [
    "num_list = [1, 2, 3, 4, 5, 1, 2, 3]\n",
    "num_set = set(num_list)\n",
    "s = list(num_set)\n",
    "s"
   ]
  },
  {
   "cell_type": "markdown",
   "id": "94fccc2f",
   "metadata": {},
   "source": [
    "16.\tMerge two dictionaries into a single dictionary using a dictionary method."
   ]
  },
  {
   "cell_type": "code",
   "execution_count": 49,
   "id": "f975124d",
   "metadata": {},
   "outputs": [
    {
     "data": {
      "text/plain": [
       "{'a': 1, 'b': 3, 'c': 4}"
      ]
     },
     "execution_count": 49,
     "metadata": {},
     "output_type": "execute_result"
    }
   ],
   "source": [
    "dict1 = {'a': 1, 'b': 2}\n",
    "dict2 = {'b': 3, 'c': 4}\n",
    "merged_dict = {**dict1, **dict2}\n",
    "merged_dict"
   ]
  },
  {
   "cell_type": "markdown",
   "id": "4b9f42ef",
   "metadata": {},
   "source": [
    "17.\tExtract all values from a dictionary into a list using a dictionary method."
   ]
  },
  {
   "cell_type": "code",
   "execution_count": 48,
   "id": "19046351",
   "metadata": {},
   "outputs": [
    {
     "data": {
      "text/plain": [
       "[1, 2, 3]"
      ]
     },
     "execution_count": 48,
     "metadata": {},
     "output_type": "execute_result"
    }
   ],
   "source": [
    "my_dict = {'a': 1, 'b': 2, 'c': 3}\n",
    "values_list = list(my_dict.values())\n",
    "values_list"
   ]
  },
  {
   "cell_type": "code",
   "execution_count": null,
   "id": "680e8895",
   "metadata": {},
   "outputs": [],
   "source": []
  }
 ],
 "metadata": {
  "kernelspec": {
   "display_name": "Python 3 (ipykernel)",
   "language": "python",
   "name": "python3"
  },
  "language_info": {
   "codemirror_mode": {
    "name": "ipython",
    "version": 3
   },
   "file_extension": ".py",
   "mimetype": "text/x-python",
   "name": "python",
   "nbconvert_exporter": "python",
   "pygments_lexer": "ipython3",
   "version": "3.12.5"
  }
 },
 "nbformat": 4,
 "nbformat_minor": 5
}
